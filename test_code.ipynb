{
 "cells": [
  {
   "cell_type": "code",
   "execution_count": 33,
   "metadata": {},
   "outputs": [],
   "source": [
    "# !pip install nsepy\n",
    "# !pip install nsetools\n",
    "# !pip install nsepython"
   ]
  },
  {
   "cell_type": "code",
   "execution_count": 34,
   "metadata": {},
   "outputs": [],
   "source": [
    "# from nsepy import get_history\n",
    "# import yfinance as yf\n",
    "# from nsetools import Nse\n",
    "from nsepython import *\n",
    "from datetime import date\n",
    "import pandas as pd\n",
    "import glob\n",
    "from datetime import date"
   ]
  },
  {
   "cell_type": "code",
   "execution_count": 38,
   "metadata": {},
   "outputs": [
    {
     "data": {
      "text/html": [
       "<div>\n",
       "<style scoped>\n",
       "    .dataframe tbody tr th:only-of-type {\n",
       "        vertical-align: middle;\n",
       "    }\n",
       "\n",
       "    .dataframe tbody tr th {\n",
       "        vertical-align: top;\n",
       "    }\n",
       "\n",
       "    .dataframe thead th {\n",
       "        text-align: right;\n",
       "    }\n",
       "</style>\n",
       "<table border=\"1\" class=\"dataframe\">\n",
       "  <thead>\n",
       "    <tr style=\"text-align: right;\">\n",
       "      <th></th>\n",
       "    </tr>\n",
       "  </thead>\n",
       "  <tbody>\n",
       "  </tbody>\n",
       "</table>\n",
       "</div>"
      ],
      "text/plain": [
       "Empty DataFrame\n",
       "Columns: []\n",
       "Index: []"
      ]
     },
     "execution_count": 38,
     "metadata": {},
     "output_type": "execute_result"
    }
   ],
   "source": [
    "symbol = \"DEVYANI\"\n",
    "series = \"EQ\"\n",
    "start_date = \"08-06-2021\"\n",
    "end_date =\"14-06-2021\"\n",
    "equity_history(symbol,series,start_date,end_date)"
   ]
  },
  {
   "cell_type": "code",
   "execution_count": 1,
   "metadata": {},
   "outputs": [],
   "source": [
    "import requests\n",
    "\n",
    "headers = {\n",
    "    'authority': 'www.nseindia.com',\n",
    "    'referer': 'https://www.nseindia.com/get-quotes/equity?symbol=DEVYANI',\n",
    "}\n",
    "\n",
    "params = (\n",
    "    ('symbol', 'DEVYANI'),\n",
    "    ('series', '/[\"EQ\"/]'),\n",
    "    ('from', '10-12-2020'),\n",
    "    ('to', '10-12-2021'),\n",
    ")\n",
    "\n",
    "response = requests.get('https://www.nseindia.com/api/historical/cm/equity', headers=headers, params=params)\n",
    "\n",
    "#NB. Original query string below. It seems impossible to parse and\n",
    "#reproduce query strings 100% accurately so the one below is given\n",
    "#in case the reproduced version is not \"correct\".\n",
    "# response = requests.get('https://www.nseindia.com/api/historical/cm/equity?symbol=DEVYANI&series=\\[%22EQ%22\\]&from=10-12-2020&to=10-12-2021', headers=headers)"
   ]
  },
  {
   "cell_type": "code",
   "execution_count": 3,
   "metadata": {},
   "outputs": [],
   "source": [
    "import requests\n",
    "\n",
    "headers = {\n",
    "    'authority': 'www.nseindia.com',\n",
    "    'referer': 'https://www.nseindia.com/get-quotes/equity?symbol=DEVYANI',\n",
    "}\n",
    "\n",
    "params = (\n",
    "    ('symbol', 'DEVYANI'),\n",
    "    ('series', '/[\"EQ\"/]'),\n",
    "    ('from', '10-12-2020'),\n",
    "    ('to', '10-12-2021'),\n",
    ")"
   ]
  },
  {
   "cell_type": "code",
   "execution_count": 4,
   "metadata": {},
   "outputs": [],
   "source": [
    "response = requests.get('https://www.nseindia.com/api/historical/cm/equity?symbol=DEVYANI&series=\\[%22EQ%22\\]&from=10-12-2020&to=10-12-2021', headers=headers)"
   ]
  },
  {
   "cell_type": "code",
   "execution_count": null,
   "metadata": {},
   "outputs": [],
   "source": []
  },
  {
   "cell_type": "code",
   "execution_count": null,
   "metadata": {},
   "outputs": [],
   "source": []
  },
  {
   "cell_type": "code",
   "execution_count": 5,
   "metadata": {},
   "outputs": [],
   "source": [
    "\n",
    "import urllib.request\n",
    "import json\n",
    "class GoogleFinanceAPI:\n",
    "    def __init__(self):\n",
    "        self.prefix = \"https://www.google.com/finance/quote/{}:{}\"\n",
    "    def get(self,symbol,exchange):\n",
    "            url = self.prefix.format(symbol,exchange)\n",
    "            print(url)\n",
    "            u = urllib.request.urlopen(url)\n",
    "            content = u.read().decode('utf-8')\n",
    "            return content\n",
    "            # obj = json.loads(content[3:])\n",
    "            # return obj[0]\n",
    "\n",
    "\n"
   ]
  },
  {
   "cell_type": "code",
   "execution_count": null,
   "metadata": {},
   "outputs": [],
   "source": []
  }
 ],
 "metadata": {
  "interpreter": {
   "hash": "aa04fd3e108343f53b2d6e6654c4c4b6057699e7018a04c2df91327deac36d8c"
  },
  "kernelspec": {
   "display_name": "Python 3.8.3 64-bit ('venv': venv)",
   "language": "python",
   "name": "python3"
  },
  "language_info": {
   "codemirror_mode": {
    "name": "ipython",
    "version": 3
   },
   "file_extension": ".py",
   "mimetype": "text/x-python",
   "name": "python",
   "nbconvert_exporter": "python",
   "pygments_lexer": "ipython3",
   "version": "3.8.3"
  },
  "orig_nbformat": 4
 },
 "nbformat": 4,
 "nbformat_minor": 2
}
